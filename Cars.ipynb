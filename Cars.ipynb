{
 "cells": [
  {
   "cell_type": "markdown",
   "metadata": {},
   "source": [
    "# Used Cars Price Prediction"
   ]
  },
  {
   "cell_type": "markdown",
   "metadata": {},
   "source": [
    "The dataset from Kaggle (https://www.kaggle.com/datasets/andreinovikov/used-cars-dataset) contains data about 762,091 used cars scraped from cars.com. The data was collected on Apr, 2023."
   ]
  },
  {
   "cell_type": "code",
   "execution_count": 1,
   "metadata": {},
   "outputs": [],
   "source": [
    "# Import the pandas library and alias it as 'pd'\n",
    "import pandas as pd\n",
    "\n",
    "# Import the numpy library and alias it as 'np'\n",
    "import numpy as np\n",
    "\n",
    "# Import the datetime module, which is part of the Python standard library\n",
    "import datetime\n",
    "\n",
    "# Import the matplotlib library and alias it as 'plt'\n",
    "import matplotlib.pyplot as plt\n",
    "\n",
    "# Import the seaborn library and alias it as 'sns'\n",
    "import seaborn as sns"
   ]
  },
  {
   "cell_type": "code",
   "execution_count": 2,
   "metadata": {},
   "outputs": [
    {
     "name": "stderr",
     "output_type": "stream",
     "text": [
      "C:\\Users\\jbo1881\\AppData\\Local\\Temp\\1\\ipykernel_12688\\4013093893.py:2: DtypeWarning: Columns (2,3,12,17) have mixed types. Specify dtype option on import or set low_memory=False.\n",
      "  cars = pd.read_csv('cars.csv')\n"
     ]
    },
    {
     "data": {
      "text/html": [
       "<div>\n",
       "<style scoped>\n",
       "    .dataframe tbody tr th:only-of-type {\n",
       "        vertical-align: middle;\n",
       "    }\n",
       "\n",
       "    .dataframe tbody tr th {\n",
       "        vertical-align: top;\n",
       "    }\n",
       "\n",
       "    .dataframe thead th {\n",
       "        text-align: right;\n",
       "    }\n",
       "</style>\n",
       "<table border=\"1\" class=\"dataframe\">\n",
       "  <thead>\n",
       "    <tr style=\"text-align: right;\">\n",
       "      <th></th>\n",
       "      <th>manufacturer</th>\n",
       "      <th>model</th>\n",
       "      <th>year</th>\n",
       "      <th>mileage</th>\n",
       "      <th>engine</th>\n",
       "      <th>transmission</th>\n",
       "      <th>drivetrain</th>\n",
       "      <th>fuel_type</th>\n",
       "      <th>mpg</th>\n",
       "      <th>exterior_color</th>\n",
       "      <th>interior_color</th>\n",
       "      <th>accidents_or_damage</th>\n",
       "      <th>one_owner</th>\n",
       "      <th>personal_use_only</th>\n",
       "      <th>seller_name</th>\n",
       "      <th>seller_rating</th>\n",
       "      <th>driver_rating</th>\n",
       "      <th>driver_reviews_num</th>\n",
       "      <th>price_drop</th>\n",
       "      <th>price;</th>\n",
       "    </tr>\n",
       "  </thead>\n",
       "  <tbody>\n",
       "    <tr>\n",
       "      <th>0</th>\n",
       "      <td>Acura,ILX Hybrid 1.5L,2013,92945.0,\"1.5L I-4 i...</td>\n",
       "      <td>NaN</td>\n",
       "      <td>NaN</td>\n",
       "      <td>NaN</td>\n",
       "      <td>NaN</td>\n",
       "      <td>NaN</td>\n",
       "      <td>NaN</td>\n",
       "      <td>NaN</td>\n",
       "      <td>NaN</td>\n",
       "      <td>NaN</td>\n",
       "      <td>NaN</td>\n",
       "      <td>NaN</td>\n",
       "      <td>NaN</td>\n",
       "      <td>NaN</td>\n",
       "      <td>NaN</td>\n",
       "      <td>NaN</td>\n",
       "      <td>NaN</td>\n",
       "      <td>NaN</td>\n",
       "      <td>NaN</td>\n",
       "      <td>NaN</td>\n",
       "    </tr>\n",
       "    <tr>\n",
       "      <th>1</th>\n",
       "      <td>Acura</td>\n",
       "      <td>ILX Hybrid 1.5L</td>\n",
       "      <td>2013.0</td>\n",
       "      <td>47645.0</td>\n",
       "      <td>1.5L I4 8V MPFI SOHC Hybrid</td>\n",
       "      <td>Automatic CVT</td>\n",
       "      <td>Front-wheel Drive</td>\n",
       "      <td>Hybrid</td>\n",
       "      <td>39-38</td>\n",
       "      <td>Gray</td>\n",
       "      <td>Ebony</td>\n",
       "      <td>1.0</td>\n",
       "      <td>1.0</td>\n",
       "      <td>1.0</td>\n",
       "      <td>Kars Today</td>\n",
       "      <td>NaN</td>\n",
       "      <td>4.4</td>\n",
       "      <td>12.0</td>\n",
       "      <td>NaN</td>\n",
       "      <td>17995.0;</td>\n",
       "    </tr>\n",
       "    <tr>\n",
       "      <th>2</th>\n",
       "      <td>Acura</td>\n",
       "      <td>ILX Hybrid 1.5L</td>\n",
       "      <td>2013.0</td>\n",
       "      <td>53422.0</td>\n",
       "      <td>1.5L I4 8V MPFI SOHC Hybrid</td>\n",
       "      <td>Automatic CVT</td>\n",
       "      <td>Front-wheel Drive</td>\n",
       "      <td>Hybrid</td>\n",
       "      <td>39-38</td>\n",
       "      <td>Bellanova White Pearl</td>\n",
       "      <td>Ebony</td>\n",
       "      <td>0.0</td>\n",
       "      <td>1.0</td>\n",
       "      <td>1.0</td>\n",
       "      <td>Weiss Toyota of South County</td>\n",
       "      <td>4.3</td>\n",
       "      <td>4.4</td>\n",
       "      <td>12.0</td>\n",
       "      <td>500.0</td>\n",
       "      <td>17000.0;</td>\n",
       "    </tr>\n",
       "    <tr>\n",
       "      <th>3</th>\n",
       "      <td>Acura</td>\n",
       "      <td>ILX Hybrid 1.5L</td>\n",
       "      <td>2013.0</td>\n",
       "      <td>117598.0</td>\n",
       "      <td>1.5L I4 8V MPFI SOHC Hybrid</td>\n",
       "      <td>Automatic CVT</td>\n",
       "      <td>Front-wheel Drive</td>\n",
       "      <td>Hybrid</td>\n",
       "      <td>39-38</td>\n",
       "      <td>Polished Metal Metallic</td>\n",
       "      <td>NaN</td>\n",
       "      <td>0.0</td>\n",
       "      <td>1.0</td>\n",
       "      <td>1.0</td>\n",
       "      <td>Apple Tree Acura</td>\n",
       "      <td>NaN</td>\n",
       "      <td>4.4</td>\n",
       "      <td>12.0</td>\n",
       "      <td>675.0</td>\n",
       "      <td>14958.0;</td>\n",
       "    </tr>\n",
       "    <tr>\n",
       "      <th>4</th>\n",
       "      <td>Acura</td>\n",
       "      <td>ILX Hybrid 1.5L</td>\n",
       "      <td>2013.0</td>\n",
       "      <td>114865.0</td>\n",
       "      <td>1.5L I4 8V MPFI SOHC Hybrid</td>\n",
       "      <td>Automatic CVT</td>\n",
       "      <td>Front-wheel Drive</td>\n",
       "      <td>Hybrid</td>\n",
       "      <td>39-38</td>\n",
       "      <td>NaN</td>\n",
       "      <td>Ebony</td>\n",
       "      <td>1.0</td>\n",
       "      <td>0.0</td>\n",
       "      <td>1.0</td>\n",
       "      <td>Herb Connolly Chevrolet</td>\n",
       "      <td>3.7</td>\n",
       "      <td>4.4</td>\n",
       "      <td>12.0</td>\n",
       "      <td>300.0</td>\n",
       "      <td>14498.0;</td>\n",
       "    </tr>\n",
       "  </tbody>\n",
       "</table>\n",
       "</div>"
      ],
      "text/plain": [
       "                                        manufacturer            model    year  \\\n",
       "0  Acura,ILX Hybrid 1.5L,2013,92945.0,\"1.5L I-4 i...              NaN     NaN   \n",
       "1                                              Acura  ILX Hybrid 1.5L  2013.0   \n",
       "2                                              Acura  ILX Hybrid 1.5L  2013.0   \n",
       "3                                              Acura  ILX Hybrid 1.5L  2013.0   \n",
       "4                                              Acura  ILX Hybrid 1.5L  2013.0   \n",
       "\n",
       "    mileage                       engine   transmission         drivetrain  \\\n",
       "0       NaN                          NaN            NaN                NaN   \n",
       "1   47645.0  1.5L I4 8V MPFI SOHC Hybrid  Automatic CVT  Front-wheel Drive   \n",
       "2   53422.0  1.5L I4 8V MPFI SOHC Hybrid  Automatic CVT  Front-wheel Drive   \n",
       "3  117598.0  1.5L I4 8V MPFI SOHC Hybrid  Automatic CVT  Front-wheel Drive   \n",
       "4  114865.0  1.5L I4 8V MPFI SOHC Hybrid  Automatic CVT  Front-wheel Drive   \n",
       "\n",
       "  fuel_type    mpg           exterior_color interior_color  \\\n",
       "0       NaN    NaN                      NaN            NaN   \n",
       "1    Hybrid  39-38                     Gray          Ebony   \n",
       "2    Hybrid  39-38    Bellanova White Pearl          Ebony   \n",
       "3    Hybrid  39-38  Polished Metal Metallic            NaN   \n",
       "4    Hybrid  39-38                      NaN          Ebony   \n",
       "\n",
       "   accidents_or_damage one_owner  personal_use_only  \\\n",
       "0                  NaN       NaN                NaN   \n",
       "1                  1.0       1.0                1.0   \n",
       "2                  0.0       1.0                1.0   \n",
       "3                  0.0       1.0                1.0   \n",
       "4                  1.0       0.0                1.0   \n",
       "\n",
       "                    seller_name  seller_rating  driver_rating  \\\n",
       "0                           NaN            NaN            NaN   \n",
       "1                    Kars Today            NaN            4.4   \n",
       "2  Weiss Toyota of South County            4.3            4.4   \n",
       "3              Apple Tree Acura            NaN            4.4   \n",
       "4       Herb Connolly Chevrolet            3.7            4.4   \n",
       "\n",
       "  driver_reviews_num  price_drop    price;  \n",
       "0                NaN         NaN       NaN  \n",
       "1               12.0         NaN  17995.0;  \n",
       "2               12.0       500.0  17000.0;  \n",
       "3               12.0       675.0  14958.0;  \n",
       "4               12.0       300.0  14498.0;  "
      ]
     },
     "execution_count": 2,
     "metadata": {},
     "output_type": "execute_result"
    }
   ],
   "source": [
    "# Read a CSV file named 'cars.csv' into a pandas DataFrame called 'cars'\n",
    "cars = pd.read_csv('cars.csv')\n",
    "\n",
    "# Display the first 5 rows of the 'cars' DataFrame\n",
    "cars.head()"
   ]
  },
  {
   "cell_type": "markdown",
   "metadata": {},
   "source": [
    "# Data Understanding"
   ]
  },
  {
   "cell_type": "code",
   "execution_count": 3,
   "metadata": {},
   "outputs": [
    {
     "name": "stdout",
     "output_type": "stream",
     "text": [
      "Index(['manufacturer', 'model', 'year', 'mileage', 'engine', 'transmission',\n",
      "       'drivetrain', 'fuel_type', 'mpg', 'exterior_color', 'interior_color',\n",
      "       'accidents_or_damage', 'one_owner', 'personal_use_only', 'seller_name',\n",
      "       'seller_rating', 'driver_rating', 'driver_reviews_num', 'price_drop',\n",
      "       'price;'],\n",
      "      dtype='object')\n"
     ]
    }
   ],
   "source": [
    "# 1. Identify Columns\n",
    "\n",
    "print(cars.columns)"
   ]
  },
  {
   "cell_type": "code",
   "execution_count": 4,
   "metadata": {},
   "outputs": [
    {
     "data": {
      "image/png": "[encoded data removed]",
      "text/plain": [
       "<Figure size 1000x600 with 1 Axes>"
      ]
     },
     "metadata": {},
     "output_type": "display_data"
    }
   ],
   "source": [
    "# 2. Check Missing Values\n",
    "\n",
    "# Count the missing values for each column\n",
    "missing_values_count = cars.isna().sum()\n",
    "\n",
    "# Plot a histogram\n",
    "plt.figure(figsize=(10, 6))\n",
    "plt.bar(missing_values_count.index, missing_values_count.values, color='skyblue')\n",
    "plt.xlabel('Columns')\n",
    "plt.ylabel('Count of Missing Values')\n",
    "plt.title('Count of Missing Values per Column')\n",
    "plt.xticks(rotation=90)\n",
    "plt.tight_layout()\n",
    "plt.show()\n"
   ]
  },
  {
   "cell_type": "code",
   "execution_count": 5,
   "metadata": {},
   "outputs": [
    {
     "data": {
      "text/plain": [
       "manufacturer                0\n",
       "model                   62847\n",
       "year                    62847\n",
       "mileage                 63343\n",
       "engine                  77607\n",
       "transmission            72274\n",
       "drivetrain              84049\n",
       "fuel_type               84990\n",
       "mpg                    202089\n",
       "exterior_color          70065\n",
       "interior_color         113680\n",
       "accidents_or_damage     85739\n",
       "one_owner               92385\n",
       "personal_use_only       86312\n",
       "seller_name             71446\n",
       "seller_rating          244491\n",
       "driver_rating           92793\n",
       "driver_reviews_num      62852\n",
       "price_drop             378403\n",
       "price;                  62853\n",
       "dtype: int64"
      ]
     },
     "execution_count": 5,
     "metadata": {},
     "output_type": "execute_result"
    }
   ],
   "source": [
    "cars.isna().sum()"
   ]
  },
  {
   "cell_type": "code",
   "execution_count": 6,
   "metadata": {},
   "outputs": [],
   "source": [
    "# 2.1 Remove rows with any missing (NaN) values from the 'cars' DataFrame\n",
    "cars = cars.dropna()"
   ]
  },
  {
   "cell_type": "code",
   "execution_count": 7,
   "metadata": {},
   "outputs": [
    {
     "data": {
      "text/plain": [
       "manufacturer            object\n",
       "model                   object\n",
       "year                    object\n",
       "mileage                 object\n",
       "engine                  object\n",
       "transmission            object\n",
       "drivetrain              object\n",
       "fuel_type               object\n",
       "mpg                     object\n",
       "exterior_color          object\n",
       "interior_color          object\n",
       "accidents_or_damage    float64\n",
       "one_owner               object\n",
       "personal_use_only      float64\n",
       "seller_name             object\n",
       "seller_rating          float64\n",
       "driver_rating          float64\n",
       "driver_reviews_num      object\n",
       "price_drop             float64\n",
       "price;                  object\n",
       "dtype: object"
      ]
     },
     "execution_count": 7,
     "metadata": {},
     "output_type": "execute_result"
    }
   ],
   "source": [
    "# 3. Check data types\n",
    "\n",
    "cars.dtypes"
   ]
  },
  {
   "cell_type": "code",
   "execution_count": 8,
   "metadata": {},
   "outputs": [
    {
     "data": {
      "text/html": [
       "<div>\n",
       "<style scoped>\n",
       "    .dataframe tbody tr th:only-of-type {\n",
       "        vertical-align: middle;\n",
       "    }\n",
       "\n",
       "    .dataframe tbody tr th {\n",
       "        vertical-align: top;\n",
       "    }\n",
       "\n",
       "    .dataframe thead th {\n",
       "        text-align: right;\n",
       "    }\n",
       "</style>\n",
       "<table border=\"1\" class=\"dataframe\">\n",
       "  <thead>\n",
       "    <tr style=\"text-align: right;\">\n",
       "      <th></th>\n",
       "      <th>accidents_or_damage</th>\n",
       "      <th>personal_use_only</th>\n",
       "      <th>seller_rating</th>\n",
       "      <th>driver_rating</th>\n",
       "      <th>price_drop</th>\n",
       "    </tr>\n",
       "  </thead>\n",
       "  <tbody>\n",
       "    <tr>\n",
       "      <th>count</th>\n",
       "      <td>231227.000000</td>\n",
       "      <td>231227.000000</td>\n",
       "      <td>231227.000000</td>\n",
       "      <td>231227.000000</td>\n",
       "      <td>231227.000000</td>\n",
       "    </tr>\n",
       "    <tr>\n",
       "      <th>mean</th>\n",
       "      <td>0.237035</td>\n",
       "      <td>0.694460</td>\n",
       "      <td>4.195212</td>\n",
       "      <td>4.657257</td>\n",
       "      <td>906.552518</td>\n",
       "    </tr>\n",
       "    <tr>\n",
       "      <th>std</th>\n",
       "      <td>0.425265</td>\n",
       "      <td>0.460637</td>\n",
       "      <td>0.770894</td>\n",
       "      <td>0.238622</td>\n",
       "      <td>1139.495460</td>\n",
       "    </tr>\n",
       "    <tr>\n",
       "      <th>min</th>\n",
       "      <td>0.000000</td>\n",
       "      <td>0.000000</td>\n",
       "      <td>1.000000</td>\n",
       "      <td>1.000000</td>\n",
       "      <td>100.000000</td>\n",
       "    </tr>\n",
       "    <tr>\n",
       "      <th>25%</th>\n",
       "      <td>0.000000</td>\n",
       "      <td>0.000000</td>\n",
       "      <td>3.900000</td>\n",
       "      <td>4.600000</td>\n",
       "      <td>327.000000</td>\n",
       "    </tr>\n",
       "    <tr>\n",
       "      <th>50%</th>\n",
       "      <td>0.000000</td>\n",
       "      <td>1.000000</td>\n",
       "      <td>4.500000</td>\n",
       "      <td>4.700000</td>\n",
       "      <td>558.000000</td>\n",
       "    </tr>\n",
       "    <tr>\n",
       "      <th>75%</th>\n",
       "      <td>0.000000</td>\n",
       "      <td>1.000000</td>\n",
       "      <td>4.700000</td>\n",
       "      <td>4.800000</td>\n",
       "      <td>1000.000000</td>\n",
       "    </tr>\n",
       "    <tr>\n",
       "      <th>max</th>\n",
       "      <td>1.000000</td>\n",
       "      <td>1.000000</td>\n",
       "      <td>5.000000</td>\n",
       "      <td>5.000000</td>\n",
       "      <td>79909.000000</td>\n",
       "    </tr>\n",
       "  </tbody>\n",
       "</table>\n",
       "</div>"
      ],
      "text/plain": [
       "       accidents_or_damage  personal_use_only  seller_rating  driver_rating  \\\n",
       "count        231227.000000      231227.000000  231227.000000  231227.000000   \n",
       "mean              0.237035           0.694460       4.195212       4.657257   \n",
       "std               0.425265           0.460637       0.770894       0.238622   \n",
       "min               0.000000           0.000000       1.000000       1.000000   \n",
       "25%               0.000000           0.000000       3.900000       4.600000   \n",
       "50%               0.000000           1.000000       4.500000       4.700000   \n",
       "75%               0.000000           1.000000       4.700000       4.800000   \n",
       "max               1.000000           1.000000       5.000000       5.000000   \n",
       "\n",
       "          price_drop  \n",
       "count  231227.000000  \n",
       "mean      906.552518  \n",
       "std      1139.495460  \n",
       "min       100.000000  \n",
       "25%       327.000000  \n",
       "50%       558.000000  \n",
       "75%      1000.000000  \n",
       "max     79909.000000  "
      ]
     },
     "execution_count": 8,
     "metadata": {},
     "output_type": "execute_result"
    }
   ],
   "source": [
    "# 4. Basic statistical summary\n",
    "\n",
    "cars.describe()"
   ]
  },
  {
   "cell_type": "code",
   "execution_count": 9,
   "metadata": {},
   "outputs": [
    {
     "name": "stdout",
     "output_type": "stream",
     "text": [
      "manufacturer\n",
      "manufacturer\n",
      "Toyota           19407\n",
      "Ford             18669\n",
      "Jeep             15382\n",
      "Nissan           14475\n",
      "Chevrolet        14171\n",
      "Kia              12411\n",
      "Honda            12400\n",
      "BMW              11429\n",
      "Mercedes-Benz    11131\n",
      "Subaru            9516\n",
      "Volkswagen        8668\n",
      "Hyundai           8050\n",
      "GMC               8032\n",
      "Lexus             7883\n",
      "Dodge             7727\n",
      "Audi              6785\n",
      "Mazda             6005\n",
      "Cadillac          5336\n",
      "Buick             5044\n",
      "Land Rover        4501\n",
      "Lincoln           3629\n",
      "Chrysler          3401\n",
      "RAM               3076\n",
      "Volvo             2979\n",
      "Porsche           2968\n",
      "Acura             2783\n",
      "INFINITI          2752\n",
      "Mitsubishi        1446\n",
      "Jaguar            1171\n",
      "Name: count, dtype: int64\n",
      "\n",
      "model\n",
      "model\n",
      "Sportage LX                         1296\n",
      "Fusion SE                           1001\n",
      "Explorer XLT                         981\n",
      "Rogue SV                             978\n",
      "CX-5 Touring                         967\n",
      "                                    ... \n",
      "Forester 4DR SUV 2.5I AWD              1\n",
      "Forester 2.5 X L.L. Bean Edition       1\n",
      "Forester Sports 2.5 X                  1\n",
      "QX60 Prem+ Driverassist                1\n",
      "S60 T5 Drive-E                         1\n",
      "Name: count, Length: 5252, dtype: int64\n",
      "\n",
      "year\n",
      "year\n",
      "2020.0    49818\n",
      "2021.0    37793\n",
      "2019.0    36437\n",
      "2018.0    20126\n",
      "2022.0    19166\n",
      "          ...  \n",
      "1994          1\n",
      "1996          1\n",
      "1993          1\n",
      "2000          1\n",
      "1988.0        1\n",
      "Name: count, Length: 66, dtype: int64\n",
      "\n",
      "mileage\n"
     ]
    },
    {
     "name": "stdout",
     "output_type": "stream",
     "text": [
      "mileage\n",
      "0.0         153\n",
      "1.0          22\n",
      "32000.0      17\n",
      "37000.0      16\n",
      "98000.0      16\n",
      "           ... \n",
      "94629.0       1\n",
      "10807.0       1\n",
      "144736.0      1\n",
      "7870.0        1\n",
      "26781.0       1\n",
      "Name: count, Length: 107417, dtype: int64\n",
      "\n",
      "engine\n",
      "engine\n",
      "2.0L I4 16V GDI DOHC Turbo                                          31000\n",
      "3.6L V6 24V MPFI DOHC                                               12648\n",
      "3.6L V6 24V GDI DOHC                                                10928\n",
      "1.5L I4 16V GDI DOHC Turbo                                           7459\n",
      "2.4L I4 16V GDI DOHC                                                 7097\n",
      "                                                                    ...  \n",
      "2.3L I4 16V MPFI SOHC                                                   1\n",
      "Engine: 1.8L I-4 SOHC 16-Valve i-VTEC -inc: Eco Assist system an        1\n",
      "Engine: 2.0L I-4 16-Valve DOHC i-VTEC -inc: direct fuel injectio        1\n",
      "1.8L I4 16V MPFI SOHC CNG                                               1\n",
      "Engine: 2.5L 20V Inline 5-Cylinder Turbo                                1\n",
      "Name: count, Length: 1168, dtype: int64\n",
      "\n",
      "transmission\n",
      "transmission\n",
      "8-Speed Automatic                          58374\n",
      "6-Speed Automatic                          48278\n",
      "Automatic CVT                              40412\n",
      "9-Speed Automatic                          24730\n",
      "10-Speed Automatic                         12321\n",
      "                                           ...  \n",
      "6-Speed Automatic Electronic with ECT-i        1\n",
      "6 Speed Manual                                 1\n",
      "8-Speed                                        1\n",
      "8-Speed Shiftable Automatic                    1\n",
      "Automatic 6-Speed                              1\n",
      "Name: count, Length: 137, dtype: int64\n",
      "\n",
      "drivetrain\n",
      "drivetrain\n",
      "All-wheel Drive      84943\n",
      "Front-wheel Drive    76281\n",
      "Four-wheel Drive     45109\n",
      "Rear-wheel Drive     23510\n",
      "FWD                    501\n",
      "AWD                    464\n",
      "4WD                    242\n",
      "RWD                    177\n",
      "Name: count, dtype: int64\n",
      "\n",
      "fuel_type\n",
      "fuel_type\n",
      "Gasoline                         217226\n",
      "Hybrid                             8038\n",
      "E85 Flex Fuel                      4212\n",
      "Diesel                             1712\n",
      "Flexible Fuel                        32\n",
      "Gasoline/Mild Electric Hybrid         4\n",
      "Compressed Natural Gas                1\n",
      "Gasoline Fuel                         1\n",
      "Hydrogen Fuel Cell                    1\n",
      "Name: count, dtype: int64\n",
      "\n",
      "mpg\n",
      "mpg\n",
      "19-26    6361\n",
      "18-25    6080\n",
      "20-27    5390\n",
      "17-25    4588\n",
      "16-23    4355\n",
      "         ... \n",
      "32-35       1\n",
      "19-20       1\n",
      "21-0        1\n",
      "24-0        1\n",
      "30-44       1\n",
      "Name: count, Length: 454, dtype: int64\n",
      "\n",
      "exterior_color\n",
      "exterior_color\n",
      "Black                    12944\n",
      "White                     8115\n",
      "Gray                      5119\n",
      "Summit White              4757\n",
      "Silver                    3952\n",
      "                         ...  \n",
      "Octane Blue Pearl            1\n",
      "Mercury Gray Pearl           1\n",
      "Rally Red                    1\n",
      "STILL NIGHT                  1\n",
      "Saville Gray Metallic        1\n",
      "Name: count, Length: 3897, dtype: int64\n",
      "\n",
      "interior_color\n",
      "interior_color\n",
      "Black                           95856\n",
      "Jet Black                       16109\n",
      "Ebony                           15695\n",
      "Gray                            13568\n",
      "Charcoal                         9630\n",
      "                                ...  \n",
      "Sahara Beige / Mocha                1\n",
      "Charcoal Black/Chromite Gray        1\n",
      "Teal                                1\n",
      "Navy Pier/Light Slate               1\n",
      "Beechwood Brown / Off Black         1\n",
      "Name: count, Length: 1657, dtype: int64\n",
      "\n",
      "accidents_or_damage\n",
      "accidents_or_damage\n",
      "0.0    176418\n",
      "1.0     54809\n",
      "Name: count, dtype: int64\n",
      "\n",
      "one_owner\n",
      "one_owner\n",
      "1.0    132307\n",
      "0.0     91454\n",
      "1.0      4260\n",
      "0.0      3206\n",
      "Name: count, dtype: int64\n",
      "\n",
      "personal_use_only\n",
      "personal_use_only\n",
      "1.0    160578\n",
      "0.0     70649\n",
      "Name: count, dtype: int64\n",
      "\n",
      "seller_name\n",
      "seller_name\n",
      "A Better Way Wholesale          354\n",
      "HGreg.com Orlando               314\n",
      "EchoPark Automotive Thornton    285\n",
      "HGreg.com Doral                 270\n",
      "Sansone Rt 1 Auto Mall          270\n",
      "                               ... \n",
      "Great Lakes Auto House            1\n",
      "KIA AutoSport of Pensacola        1\n",
      "Colonial Ford of Marlboro         1\n",
      "Empire Auto Imports               1\n",
      "Gates of Elkhart                  1\n",
      "Name: count, Length: 8085, dtype: int64\n",
      "\n",
      "seller_rating\n",
      "seller_rating\n",
      "4.8    27817\n",
      "4.7    25714\n",
      "4.9    22922\n",
      "4.6    21200\n",
      "4.5    17589\n",
      "4.4    13822\n",
      "4.3    10724\n",
      "4.2     9718\n",
      "4.1     7903\n",
      "4.0     6929\n",
      "3.9     6551\n",
      "5.0     5686\n",
      "3.8     4713\n",
      "3.3     4471\n",
      "3.4     4469\n",
      "3.6     4391\n",
      "3.7     3950\n",
      "3.5     3657\n",
      "3.1     3052\n",
      "3.2     2753\n",
      "3.0     2735\n",
      "2.8     2361\n",
      "2.6     2085\n",
      "2.9     1944\n",
      "2.4     1835\n",
      "2.7     1608\n",
      "2.5     1531\n",
      "2.2     1487\n",
      "1.8     1200\n",
      "2.3     1092\n",
      "2.1     1025\n",
      "1.9      807\n",
      "1.7      631\n",
      "2.0      613\n",
      "1.5      566\n",
      "1.6      494\n",
      "1.2      338\n",
      "1.3      313\n",
      "1.4      304\n",
      "1.0      155\n",
      "1.1       72\n",
      "Name: count, dtype: int64\n",
      "\n",
      "driver_rating\n",
      "driver_rating\n",
      "4.8    57148\n",
      "4.7    51997\n",
      "4.6    36064\n",
      "4.9    24669\n",
      "4.5    20691\n",
      "4.4    10655\n",
      "5.0     9260\n",
      "4.3     8067\n",
      "4.2     3931\n",
      "4.1     3532\n",
      "4.0     1745\n",
      "3.8     1080\n",
      "3.9      670\n",
      "3.4      535\n",
      "3.6      455\n",
      "3.7      236\n",
      "2.8      236\n",
      "2.9      181\n",
      "3.5       21\n",
      "3.3       15\n",
      "3.2       14\n",
      "2.7       12\n",
      "2.6        4\n",
      "2.0        3\n",
      "3.0        2\n",
      "3.1        2\n",
      "1.0        2\n",
      "Name: count, dtype: int64\n",
      "\n",
      "driver_reviews_num\n",
      "driver_reviews_num\n",
      "2.0      5582\n",
      "10.0     4513\n",
      "4.0      3819\n",
      "26.0     3811\n",
      "3.0      3510\n",
      "         ... \n",
      "37.0        1\n",
      "240.0       1\n",
      "16.0        1\n",
      "47.0        1\n",
      "59.0        1\n",
      "Name: count, Length: 482, dtype: int64\n",
      "\n",
      "price_drop\n",
      "price_drop\n",
      "1000.0     23031\n",
      "500.0      21824\n",
      "200.0       8601\n",
      "100.0       8551\n",
      "300.0       6318\n",
      "           ...  \n",
      "4028.0         1\n",
      "5124.0         1\n",
      "3738.0         1\n",
      "10681.0        1\n",
      "5244.0         1\n",
      "Name: count, Length: 5104, dtype: int64\n",
      "\n",
      "price;\n",
      "price;\n",
      "19995.0;    633\n",
      "25000.0;    569\n",
      "20000.0;    565\n",
      "29995.0;    547\n",
      "24995.0;    538\n",
      "           ... \n",
      "16311.0;      1\n",
      "15356.0;      1\n",
      "28527.0;      1\n",
      "31338.0;      1\n",
      "7911.0;       1\n",
      "Name: count, Length: 40426, dtype: int64\n",
      "\n"
     ]
    }
   ],
   "source": [
    "# 5. Check data distribution\n",
    "for column in cars.columns:\n",
    "    print(column)\n",
    "    print(cars[column].value_counts())\n",
    "    print()"
   ]
  },
  {
   "cell_type": "markdown",
   "metadata": {},
   "source": [
    "# Data Visualization"
   ]
  },
  {
   "cell_type": "code",
   "execution_count": 10,
   "metadata": {},
   "outputs": [
    {
     "data": {
      "image/png": "[encoded data removed]",
      "text/plain": [
       "<Figure size 800x600 with 1 Axes>"
      ]
     },
     "metadata": {},
     "output_type": "display_data"
    }
   ],
   "source": [
    "# Histogram of Accidents or Damage:\n",
    "\n",
    "plt.figure(figsize=(8, 6))\n",
    "sns.countplot(data=cars, x='accidents_or_damage', palette='viridis')\n",
    "plt.xlabel('Accidents or Damage')\n",
    "plt.ylabel('Count')\n",
    "plt.title('Distribution of Accidents or Damage')\n",
    "plt.show()\n"
   ]
  },
  {
   "cell_type": "code",
   "execution_count": 11,
   "metadata": {},
   "outputs": [
    {
     "data": {
      "image/png": "[encoded data removed]",
      "text/plain": [
       "<Figure size 1400x800 with 1 Axes>"
      ]
     },
     "metadata": {},
     "output_type": "display_data"
    }
   ],
   "source": [
    "# Distribution of car manufacturers\n",
    "\n",
    "plt.figure(figsize=(14, 8))\n",
    "sns.countplot(data=cars, y='manufacturer', order=cars['manufacturer'].value_counts().index, palette='husl')\n",
    "plt.xlabel('Count')\n",
    "plt.ylabel('Car Manufacturer')\n",
    "plt.title('Distribution of Car Manufacturers')\n",
    "plt.show()\n"
   ]
  },
  {
   "cell_type": "markdown",
   "metadata": {},
   "source": [
    "# Data Preparation"
   ]
  },
  {
   "cell_type": "code",
   "execution_count": 12,
   "metadata": {},
   "outputs": [],
   "source": [
    "# Rename the column 'price;' to 'price' in the 'cars' DataFrame\n",
    "cars.rename(columns={'price;': 'price'}, inplace=True)\n",
    "\n",
    "# Remove trailing ';' from the 'price' column in the 'cars' DataFrame\n",
    "cars['price'] = cars['price'].str.strip(';')\n"
   ]
  },
  {
   "cell_type": "code",
   "execution_count": 13,
   "metadata": {},
   "outputs": [],
   "source": [
    "# Convert 'one_owner' and 'personal_use_only' columns to boolean type in the 'cars' DataFrame\n",
    "cars[['one_owner', 'personal_use_only']] = cars[['one_owner', 'personal_use_only']].astype('bool_')\n",
    "\n",
    "# Convert 'year' column to integer type in the 'cars' DataFrame\n",
    "cars['year'] = cars['year'].astype('int')\n",
    "\n",
    "# Convert 'mileage', 'driver_reviews_num', and 'price' columns to float type in the 'cars' DataFrame\n",
    "cars[['mileage', 'driver_reviews_num', 'price']] = cars[['mileage', 'driver_reviews_num', 'price']].astype('float64')\n",
    "\n",
    "# Display the first 5 rows of the 'cars' DataFrame\n",
    "#cars.head()\n"
   ]
  },
  {
   "cell_type": "code",
   "execution_count": 14,
   "metadata": {},
   "outputs": [
    {
     "data": {
      "image/png": "[encoded data removed]",
      "text/plain": [
       "<Figure size 800x600 with 1 Axes>"
      ]
     },
     "metadata": {},
     "output_type": "display_data"
    }
   ],
   "source": [
    "# Boxplot of Price Distribution\n",
    "plt.figure(figsize=(8, 6))\n",
    "sns.boxplot(data=cars, y='price', palette='Set3')\n",
    "plt.ylabel('Price')\n",
    "plt.title('Distribution of Car Prices')\n",
    "plt.show()\n"
   ]
  },
  {
   "cell_type": "markdown",
   "metadata": {},
   "source": [
    "#  Here are three questions I address to explore and analyze the dataset of used cars, before implementing the ML Model:\n"
   ]
  },
  {
   "cell_type": "markdown",
   "metadata": {},
   "source": [
    "# 1. What is the most common car manufacturer and model in the dataset, and what is the average price for each manufacturer and model?"
   ]
  },
  {
   "cell_type": "code",
   "execution_count": 15,
   "metadata": {},
   "outputs": [],
   "source": [
    "# Group the 'cars' DataFrame by 'manufacturer', count the number of models for each manufacturer, and sort in descending order\n",
    "most_manu = cars.groupby(by=['manufacturer'])['model'].count().sort_values(ascending=False)\n",
    "\n",
    "# Reset the index of the resulting series to make it a DataFrame\n",
    "most_manu = most_manu.reset_index()\n"
   ]
  },
  {
   "cell_type": "code",
   "execution_count": 16,
   "metadata": {},
   "outputs": [],
   "source": [
    "# Filter the 'cars' DataFrame for the manufacturer with the most models\n",
    "price_most_manu = cars[cars['manufacturer'] == most_manu.iloc[0][0]]\n",
    "\n",
    "# Calculate the mean (average) price for this manufacturer and round to the nearest integer\n",
    "price_most_manu = int(round(np.mean(price_most_manu['price']), 0))\n"
   ]
  },
  {
   "cell_type": "code",
   "execution_count": 17,
   "metadata": {},
   "outputs": [
    {
     "name": "stdout",
     "output_type": "stream",
     "text": [
      "The most common car manufacturer in the dataset is Toyota with 8.39% of the total cars. The average price of a used Toyota is 30650$.\n"
     ]
    }
   ],
   "source": [
    "# Print a formatted statement about the most common car manufacturer and its average price\n",
    "print('The most common car manufacturer in the dataset is {manu} with {num}% of the total cars. The average price of a used {manu} is {price}$.'.format(\n",
    "    manu=most_manu.iloc[0][0],  # Insert the most common manufacturer\n",
    "    num=round(100 * (most_manu.iloc[0][1] / len(cars)), 2),  # Calculate the percentage of cars for the most common manufacturer\n",
    "    price=price_most_manu  # Insert the average price for the most common manufacturer\n",
    "))\n"
   ]
  },
  {
   "cell_type": "code",
   "execution_count": 18,
   "metadata": {},
   "outputs": [],
   "source": [
    "# Count the occurrences of each car model and sort them in descending order\n",
    "most_model = cars['model'].value_counts()\n",
    "\n",
    "# Reset the index of the resulting series to make it a DataFrame\n",
    "most_model = most_model.reset_index()\n",
    "\n",
    "# Extract the most common car model (the first entry after sorting)\n",
    "most_model = most_model.iloc[0][0]\n"
   ]
  },
  {
   "cell_type": "code",
   "execution_count": 19,
   "metadata": {},
   "outputs": [],
   "source": [
    "# Filter the 'cars' DataFrame for the manufacturer of the most common model\n",
    "most_model_manu = cars[cars['model'] == most_model]['manufacturer'].iloc[0]\n",
    "\n",
    "# Filter the 'cars' DataFrame for the manufacturer of the most common model and calculate the average price\n",
    "price_most_model = cars[cars['manufacturer'] == most_model_manu]\n",
    "price_most_model = int(round(np.mean(price_most_model['price']), 0))\n"
   ]
  },
  {
   "cell_type": "code",
   "execution_count": 20,
   "metadata": {},
   "outputs": [
    {
     "name": "stdout",
     "output_type": "stream",
     "text": [
      "The most common model car is Sportage LX, which is manufactured by Kia. The average price of a used Sportage LX is 22515$.\n"
     ]
    }
   ],
   "source": [
    "# Print a formatted statement about the most common car model and its average price\n",
    "print('The most common model car is {model}, which is manufactured by {manuf}. The average price of a used {model} is {price}$.'.format(\n",
    "    model=most_model,  # Insert the most common car model\n",
    "    manuf=most_model_manu,  # Insert the manufacturer of the most common model\n",
    "    price=price_most_model  # Insert the average price for the most common model\n",
    "))\n"
   ]
  },
  {
   "cell_type": "markdown",
   "metadata": {},
   "source": [
    " # 2. Is there a correlation between the age of a car (year), its mileage, whether it has had accidents, and its price?"
   ]
  },
  {
   "cell_type": "code",
   "execution_count": 21,
   "metadata": {},
   "outputs": [],
   "source": [
    "# Calculate the age of each car based on the current year\n",
    "cars['age'] = datetime.datetime.now().year - cars['year']"
   ]
  },
  {
   "cell_type": "code",
   "execution_count": 22,
   "metadata": {},
   "outputs": [
    {
     "data": {
      "image/png": "[encoded data removed]",
      "text/plain": [
       "<Figure size 800x600 with 2 Axes>"
      ]
     },
     "metadata": {},
     "output_type": "display_data"
    }
   ],
   "source": [
    "# Compute the Pearson correlation coefficient for the specified columns in the 'cars' DataFrame\n",
    "correlation_matrix = cars[['age', 'accidents_or_damage', 'mileage', 'price']].corr(method='pearson', numeric_only=True)\n",
    "\n",
    "# Create a heatmap for the correlation matrix\n",
    "plt.figure(figsize=(8, 6))\n",
    "sns.heatmap(correlation_matrix, annot=True, cmap='coolwarm', fmt='.3f', vmin=-1, vmax=1)\n",
    "plt.title('Pearson Correlation Heatmap')\n",
    "plt.show()\n"
   ]
  },
  {
   "cell_type": "markdown",
   "metadata": {},
   "source": [
    "Conclusions:\n",
    "\n",
    "- Older cars tend to have higher mileage, which is intuitive.\n",
    "- Older cars, on average, tend to have lower prices.\n",
    "- Cars with higher mileage, on average, tend to have lower prices.\n",
    "- Cars with a history of accidents or damage tend to have slightly higher mileage and lower prices."
   ]
  },
  {
   "cell_type": "markdown",
   "metadata": {},
   "source": [
    "# 3. Does the type of transmission (automatic, manual, etc.) or fuel type impact the car's miles per gallon (mpg), and how does it affect the price?"
   ]
  },
  {
   "cell_type": "code",
   "execution_count": 23,
   "metadata": {},
   "outputs": [
    {
     "name": "stdout",
     "output_type": "stream",
     "text": [
      "transmission\n",
      "8-Speed Automatic                          58374\n",
      "6-Speed Automatic                          48278\n",
      "Automatic CVT                              40412\n",
      "9-Speed Automatic                          24730\n",
      "10-Speed Automatic                         12321\n",
      "                                           ...  \n",
      "6-Speed Automatic Electronic with ECT-i        1\n",
      "6 Speed Manual                                 1\n",
      "8-Speed                                        1\n",
      "8-Speed Shiftable Automatic                    1\n",
      "Automatic 6-Speed                              1\n",
      "Name: count, Length: 137, dtype: int64\n"
     ]
    }
   ],
   "source": [
    "# Count the occurrences of each transmission type\n",
    "transmissions_counts = cars['transmission'].value_counts()\n",
    "\n",
    "# Print the counts of each transmission type\n",
    "print(transmissions_counts)"
   ]
  },
  {
   "cell_type": "code",
   "execution_count": 24,
   "metadata": {},
   "outputs": [],
   "source": [
    "# Clean and standardize the 'transmission' column to have values 'automatic' or 'manual'\n",
    "cars['transmission'] = cars['transmission'].apply(lambda row: 'automatic' if 'automatic' in row.lower() or 'auto' in row.lower() or 'cvt' in row.lower() or 'variable' in row.lower() or 'A/T' in row else ('manual' if 'manual' in row.lower() or 'M/T' in row else row))\n",
    "\n",
    "# Count the occurrences of each transmission type\n",
    "transmission_counts = cars['transmission'].value_counts()\n"
   ]
  },
  {
   "cell_type": "code",
   "execution_count": 25,
   "metadata": {},
   "outputs": [],
   "source": [
    "# Drop rows where the 'transmission' column does not have 'manual' or 'automatic'\n",
    "cars = cars.drop(cars[~((cars['transmission'] == 'manual') | (cars['transmission'] == 'automatic'))].index)\n",
    "\n",
    "# Count the occurrences of each transmission type after dropping other rows\n",
    "transmission_counts = cars['transmission'].value_counts()\n"
   ]
  },
  {
   "cell_type": "code",
   "execution_count": 26,
   "metadata": {},
   "outputs": [
    {
     "name": "stdout",
     "output_type": "stream",
     "text": [
      "fuel_type\n",
      "Gasoline                         216925\n",
      "Hybrid                             8036\n",
      "E85 Flex Fuel                      4200\n",
      "Diesel                             1709\n",
      "Flexible Fuel                        32\n",
      "Gasoline/Mild Electric Hybrid         4\n",
      "Compressed Natural Gas                1\n",
      "Gasoline Fuel                         1\n",
      "Hydrogen Fuel Cell                    1\n",
      "Name: count, dtype: int64\n"
     ]
    }
   ],
   "source": [
    "# Count the occurrences of each fuel type\n",
    "fuel_type_counts = cars['fuel_type'].value_counts()\n",
    "\n",
    "# Print the counts of each fuel type\n",
    "print(fuel_type_counts)\n"
   ]
  },
  {
   "cell_type": "code",
   "execution_count": 27,
   "metadata": {},
   "outputs": [],
   "source": [
    "# Clean and standardize the 'fuel_type' column to have values 'gasoline', 'diesel', or 'hybrid'\n",
    "cars['fuel_type'] = cars['fuel_type'].apply(lambda row: 'gasoline' if ('gasoline' in row.lower() or 'flex' in row.lower() or 'flexible' in row.lower()) else ('diesel' if 'diesel' in row.lower() else ('hybrid' if 'hybrid' in row.lower() else row)))\n",
    "\n",
    "# Count the occurrences of each fuel type\n",
    "fuel_type_counts = cars['fuel_type'].value_counts()\n"
   ]
  },
  {
   "cell_type": "code",
   "execution_count": 28,
   "metadata": {},
   "outputs": [],
   "source": [
    "# change fuel_type to just 'gasoline', 'diesel', 'hybrid'\n",
    "\n",
    "cars['fuel_type'] = cars['fuel_type'].apply(lambda row: 'gasoline' if ('gasoline' in row.lower() or 'flex' in row.lower() or 'flexible' in row.lower()) else ('diesel' if 'diesel' in row.lower() else ('hybrid' if 'hybrid' in row.lower() else row)))"
   ]
  },
  {
   "cell_type": "code",
   "execution_count": 29,
   "metadata": {},
   "outputs": [
    {
     "data": {
      "text/plain": [
       "fuel_type\n",
       "gasoline    221162\n",
       "hybrid        8036\n",
       "diesel        1709\n",
       "Name: count, dtype: int64"
      ]
     },
     "execution_count": 29,
     "metadata": {},
     "output_type": "execute_result"
    }
   ],
   "source": [
    "# drop the other rows that are not gasoline, diesel or hybrid\n",
    "cars = cars.drop(cars[~((cars['fuel_type'] == 'gasoline') | (cars['fuel_type'] == 'diesel') | (cars['fuel_type'] == 'hybrid'))].index)\n",
    "\n",
    "cars['fuel_type'].value_counts()\n"
   ]
  },
  {
   "cell_type": "code",
   "execution_count": 30,
   "metadata": {},
   "outputs": [],
   "source": [
    "# Calculate the mean MPG for each car based on a string like \"10-15\" in the 'mpg' column\n",
    "cars['mpg'] = cars['mpg'].apply(lambda x: np.mean([float(e) for e in x.split('-')]))"
   ]
  },
  {
   "cell_type": "code",
   "execution_count": 31,
   "metadata": {},
   "outputs": [],
   "source": [
    "# Import the LabelEncoder from scikit-learn\n",
    "from sklearn.preprocessing import LabelEncoder\n",
    "\n",
    "# Initialize a LabelEncoder for 'transmission'\n",
    "le_transmission = LabelEncoder()\n",
    "\n",
    "# Encode the 'transmission' column\n",
    "# 0: automatic, 1: manual\n",
    "cars['transmission'] = le_transmission.fit_transform(cars['transmission'])\n"
   ]
  },
  {
   "cell_type": "code",
   "execution_count": 32,
   "metadata": {},
   "outputs": [],
   "source": [
    "# Initialize a LabelEncoder for 'fuel_type'\n",
    "le_fuel_type = LabelEncoder()\n",
    "\n",
    "# Encode the 'fuel_type' column\n",
    "cars['fuel_type'] = le_fuel_type.fit_transform(cars['fuel_type'])\n"
   ]
  },
  {
   "cell_type": "code",
   "execution_count": 33,
   "metadata": {},
   "outputs": [
    {
     "data": {
      "image/png": "[encoded data removed]",
      "text/plain": [
       "<Figure size 800x600 with 2 Axes>"
      ]
     },
     "metadata": {},
     "output_type": "display_data"
    }
   ],
   "source": [
    "# Compute the Pearson correlation coefficient for the specified columns in the 'cars' DataFrame\n",
    "correlation_matrix=cars[['transmission', 'fuel_type', 'mpg', 'price']].corr(method='pearson', numeric_only=True)\n",
    "\n",
    "# Create a heatmap for the correlation matrix\n",
    "plt.figure(figsize=(8, 6))\n",
    "sns.heatmap(correlation_matrix, annot=True, cmap='coolwarm', fmt='.3f', vmin=-1, vmax=1)\n",
    "plt.title('Pearson Correlation Heatmap')\n",
    "plt.show()"
   ]
  },
  {
   "cell_type": "markdown",
   "metadata": {},
   "source": [
    "Conclusions:\n",
    "- Transmission vs. Price: There is a very weak positive correlation (approximately 0.011), suggesting that the type of transmission (automatic or manual) has little to no linear influence on car prices.\n",
    "- Fuel Type vs. Price: There is a very weak negative correlation (approximately -0.025), indicating that the type of fuel (diesel, gasoline, or hybrid) has minimal linear impact on car prices.\n",
    "- mpg vs. Price: There is a moderate negative correlation (approximately -0.328), indicating a noticeable inverse relationship between fuel efficiency (mpg) and car prices. Higher mpg values tend to be associated with lower car prices.\n",
    "- Transmission vs. mpg: There is a very weak negative correlation between the type of transmission and fuel efficiency (mpg). This suggests that the choice of transmission (automatic or manual) has a very minor influence on a car's fuel efficiency.\n",
    "- Fuel Type vs. mpg: There is a moderate positive correlation between fuel type (diesel, gasoline, or hybrid) and fuel efficiency (mpg). This indicates that the type of fuel a car uses has a moderate impact on its fuel efficiency. Hybrid cars tend to have higher mpg ratings compared to diesel or gasoline cars."
   ]
  },
  {
   "cell_type": "markdown",
   "metadata": {},
   "source": [
    "# Machine Learning Model: Used Car Price Prediction\n",
    "\n",
    "A regression model to predict the price of a used car based on features like year, mileage, engine, transmission, fuel type, and more. \n",
    "\n",
    "This can be valuable for both buyers and sellers to estimate the fair market value of a car.\n",
    "\n",
    "ML Model Selection: **Random Forest Regression**"
   ]
  },
  {
   "cell_type": "code",
   "execution_count": 34,
   "metadata": {},
   "outputs": [],
   "source": [
    "# Import necessary libraries for machine learning\n",
    "from sklearn.model_selection import train_test_split  # Import train-test split function\n",
    "from sklearn.ensemble import RandomForestRegressor  # Import Random Forest Regressor\n",
    "from sklearn.metrics import r2_score  # Import metrics for evaluation\n",
    "from sklearn.preprocessing import StandardScaler  # Import StandardScaler for data preprocessing\n",
    "from sklearn.model_selection import GridSearchCV  # Import GridSearchCV for hyperparameter tuning\n",
    "from sklearn.model_selection import RandomizedSearchCV  # Import RandomizedSearchCV for hyperparameter tuning\n",
    "from scipy.stats import randint  # Import randint for generating random integers\n"
   ]
  },
  {
   "cell_type": "code",
   "execution_count": 35,
   "metadata": {},
   "outputs": [
    {
     "data": {
      "text/plain": [
       "drivetrain\n",
       "All-wheel Drive      84906\n",
       "Front-wheel Drive    76231\n",
       "Four-wheel Drive     45081\n",
       "Rear-wheel Drive     23308\n",
       "FWD                    501\n",
       "AWD                    464\n",
       "4WD                    242\n",
       "RWD                    174\n",
       "Name: count, dtype: int64"
      ]
     },
     "execution_count": 35,
     "metadata": {},
     "output_type": "execute_result"
    }
   ],
   "source": [
    "# Count the occurrences of each unique value in the 'drivetrain' column\n",
    "# This provides a distribution of different drivetrain types in the dataset\n",
    "cars['drivetrain'].value_counts()"
   ]
  },
  {
   "cell_type": "code",
   "execution_count": 36,
   "metadata": {},
   "outputs": [],
   "source": [
    "# Standardize the 'drivetrain' column values to common categories: AWD, FWD, RWD, 4WD\n",
    "cars['drivetrain'] = cars['drivetrain'].apply(lambda row: \n",
    "    'All-wheel Drive' if 'awd' in row.lower() else (\n",
    "        'Front-wheel Drive' if 'fwd' in row.lower() else (\n",
    "            'Rear-wheel Drive' if 'rwd' in row.lower() else (\n",
    "                'Four-wheel Drive' if '4wd' in row.lower() else row\n",
    "            )\n",
    "        )\n",
    "    )\n",
    ")\n"
   ]
  },
  {
   "cell_type": "code",
   "execution_count": 37,
   "metadata": {},
   "outputs": [
    {
     "data": {
      "text/plain": [
       "drivetrain\n",
       "All-wheel Drive      85370\n",
       "Front-wheel Drive    76732\n",
       "Four-wheel Drive     45323\n",
       "Rear-wheel Drive     23482\n",
       "Name: count, dtype: int64"
      ]
     },
     "execution_count": 37,
     "metadata": {},
     "output_type": "execute_result"
    }
   ],
   "source": [
    "cars['drivetrain'].value_counts()"
   ]
  },
  {
   "cell_type": "code",
   "execution_count": 38,
   "metadata": {},
   "outputs": [],
   "source": [
    "# Dictionary to store encoders\n",
    "label_encoders = {}\n",
    "categorical_columns = ['manufacturer', 'model', 'drivetrain', 'accidents_or_damage', 'one_owner', 'personal_use_only', 'exterior_color', 'interior_color']\n",
    "\n",
    "# Iterate through categorical columns and create encoders\n",
    "for column in categorical_columns:\n",
    "    le = LabelEncoder()\n",
    "    cars[column] = le.fit_transform(cars[column])\n",
    "    # Store the encoder in the dictionary\n",
    "    label_encoders[column] = le\n",
    "\n",
    "# Now label_encoders contains encoders for each categorical column\n",
    "\n",
    "# Example: How to use the encoders\n",
    "sample_input = {'manufacturer': 'Audi', 'model': 'R8', 'drivetrain': 'All-wheel Drive', 'accidents_or_damage': 0.0}\n",
    "encoded_input = {}\n",
    "for col, value in sample_input.items():\n",
    "    le = label_encoders[col]\n",
    "    encoded_input[col] = le.transform([value])[0]\n",
    "\n",
    "# print(\"Encoded input:\", encoded_input)"
   ]
  },
  {
   "cell_type": "code",
   "execution_count": 39,
   "metadata": {},
   "outputs": [],
   "source": [
    "# Define features (X) and target variable (y)\n",
    "X = cars[['manufacturer', 'model', 'transmission', 'fuel_type',  'price_drop', 'age', 'mileage', 'mpg', 'drivetrain', 'accidents_or_damage']]\n",
    "y = cars['price']"
   ]
  },
  {
   "cell_type": "code",
   "execution_count": 40,
   "metadata": {},
   "outputs": [],
   "source": [
    "# Split the data into training and testing sets\n",
    "X_train, X_test, y_train, y_test = train_test_split(X, y, test_size=0.2, random_state=42)"
   ]
  },
  {
   "cell_type": "code",
   "execution_count": 41,
   "metadata": {},
   "outputs": [],
   "source": [
    "# # Set up a randomized search for hyperparameter tuning of a RandomForestRegressor model using scikit-learn's RandomizedSearchCV\n",
    "\n",
    "# # Define a narrower range of hyperparameters\n",
    "# param_dist = {\n",
    "#     'n_estimators': [100, 200, 300],\n",
    "#     'max_depth': [None, 10, 20],\n",
    "#     'min_samples_split': randint(2, 11),  # Use a distribution for random search\n",
    "#     'min_samples_leaf': randint(1, 5)     # Use a distribution for random search\n",
    "# }\n",
    "\n",
    "# # Use RandomizedSearchCV\n",
    "# random_search = RandomizedSearchCV(\n",
    "#     RandomForestRegressor(),\n",
    "#     param_distributions=param_dist,\n",
    "#     n_iter=10,  # Adjust the number of iterations based on your time constraints\n",
    "#     cv=3,       # Adjust the number of folds based on your time constraints\n",
    "#     scoring='neg_mean_squared_error',\n",
    "#     n_jobs=-1\n",
    "# )\n",
    "\n",
    "# # Perform the randomized search\n",
    "# random_search.fit(X_train, y_train)\n",
    "\n",
    "# # Get the best model\n",
    "# best_rf_model = random_search.best_estimator_"
   ]
  },
  {
   "cell_type": "code",
   "execution_count": 48,
   "metadata": {},
   "outputs": [
    {
     "name": "stderr",
     "output_type": "stream",
     "text": [
      "C:\\Users\\jbo1881\\AppData\\Roaming\\Python\\Python39\\site-packages\\sklearn\\model_selection\\_search.py:307: UserWarning: The total space of parameters 4 is smaller than n_iter=5. Running 4 iterations. For exhaustive searches, use GridSearchCV.\n",
      "  warnings.warn(\n"
     ]
    },
    {
     "name": "stdout",
     "output_type": "stream",
     "text": [
      "R-squared (R2) Score (Linear Regression): 0.43066479017694836\n"
     ]
    }
   ],
   "source": [
    "#Linear Regression Model\n",
    "\n",
    "from sklearn.linear_model import LinearRegression\n",
    "from sklearn.model_selection import RandomizedSearchCV\n",
    "from scipy.stats import uniform\n",
    "\n",
    "# Set up a randomized search for hyperparameter tuning of a LinearRegression model using scikit-learn's RandomizedSearchCV\n",
    "\n",
    "# Define a narrower range of hyperparameters for Linear Regression\n",
    "param_dist = {\n",
    "    'fit_intercept': [True, False],\n",
    "    'positive': [True, False],\n",
    "    'n_jobs': [-1] \n",
    "}\n",
    "\n",
    "# Use RandomizedSearchCV for Linear Regression\n",
    "linear_search = RandomizedSearchCV(\n",
    "    LinearRegression(),\n",
    "    param_distributions=param_dist,\n",
    "    n_iter=5, \n",
    "    cv=3,      \n",
    "    scoring='neg_mean_squared_error',\n",
    "    n_jobs=-1\n",
    ")\n",
    "\n",
    "# Perform the randomized search for Linear Regression\n",
    "linear_search.fit(X_train, y_train)\n",
    "\n",
    "# Get the best model\n",
    "best_linear_model = linear_search.best_estimator_\n",
    "\n",
    "# Make predictions on the test data\n",
    "y_pred = best_linear_model.predict(X_test)\n",
    "\n",
    "# Evaluate the Linear Regression model performance\n",
    "r2 = r2_score(y_test, y_pred)\n",
    "\n",
    "print(\"R-squared (R2) Score (Linear Regression):\", r2)\n"
   ]
  },
  {
   "cell_type": "code",
   "execution_count": 42,
   "metadata": {},
   "outputs": [],
   "source": [
    "# Save the model (Random Forest)\n",
    "\n",
    "import pickle\n",
    "\n",
    "# pickle.dump(best_rf_model, open('ML_Project4_Model', 'wb'))\n",
    "\n",
    "# Load the model\n",
    "loaded_model = pickle.load(open('ML_Project4_Model', 'rb'))\n",
    "\n",
    "# Rename the loaded model\n",
    "best_rf_model = loaded_model"
   ]
  },
  {
   "cell_type": "code",
   "execution_count": 43,
   "metadata": {},
   "outputs": [],
   "source": [
    "# Make predictions on the test data\n",
    "y_pred = best_rf_model.predict(X_test)"
   ]
  },
  {
   "cell_type": "code",
   "execution_count": 44,
   "metadata": {},
   "outputs": [
    {
     "name": "stdout",
     "output_type": "stream",
     "text": [
      "R-squared (R2) Score: 0.9163239603349843\n"
     ]
    }
   ],
   "source": [
    "# Evaluate the model's performance\n",
    "r2 = r2_score(y_test, y_pred)\n",
    "\n",
    "print(\"R-squared (R2) Score:\", r2)"
   ]
  },
  {
   "cell_type": "code",
   "execution_count": 45,
   "metadata": {},
   "outputs": [
    {
     "name": "stdout",
     "output_type": "stream",
     "text": [
      "Predicted price: 10720$\n"
     ]
    },
    {
     "name": "stderr",
     "output_type": "stream",
     "text": [
      "C:\\Users\\jbo1881\\AppData\\Roaming\\Python\\Python39\\site-packages\\sklearn\\base.py:464: UserWarning: X does not have valid feature names, but RandomForestRegressor was fitted with feature names\n",
      "  warnings.warn(\n"
     ]
    }
   ],
   "source": [
    "# EXAMPLE OF PRICE PREDICTION\n",
    "\n",
    "# New input data\n",
    "new_input = ['Toyota', 'Sequoia Limited', 'manual', 'gasoline', 900, 19, 200000, 16, 'Rear-wheel Drive', 0.0]\n",
    "\n",
    "# Transform the input to numerical values using previously used label encoders and transformations\n",
    "transformed_input = {\n",
    "    'manufacturer': label_encoders['manufacturer'].transform([new_input[0]])[0],\n",
    "    'model': label_encoders['model'].transform([new_input[1]])[0],\n",
    "    'transmission': le_transmission.transform([new_input[2]])[0],\n",
    "    'fuel_type': le_fuel_type.transform([new_input[3]])[0],\n",
    "    'price_drop': new_input[4],\n",
    "    'age': new_input[5],\n",
    "    'mileage': new_input[6],\n",
    "    'mpg': new_input[7],\n",
    "    'drivetrain': label_encoders['drivetrain'].transform([new_input[8]])[0],\n",
    "    'accidents_or_damage': new_input[9]\n",
    "}\n",
    "\n",
    "# Convert values to numerical and correct data types\n",
    "input_values = np.array([\n",
    "    transformed_input['manufacturer'],\n",
    "    transformed_input['model'],\n",
    "    int(transformed_input['transmission']),\n",
    "    int(transformed_input['fuel_type']),\n",
    "    transformed_input['price_drop'],\n",
    "    transformed_input['age'],\n",
    "    transformed_input['mileage'],\n",
    "    transformed_input['mpg'],\n",
    "    transformed_input['drivetrain'],\n",
    "    transformed_input['accidents_or_damage']\n",
    "]).reshape(1, -1)\n",
    "\n",
    "# Make predictions\n",
    "pred1 = best_rf_model.predict(input_values)\n",
    "\n",
    "# Print the prediction\n",
    "print('Predicted price: ' + str(int(round(pred1[0],0))) + '$')\n"
   ]
  },
  {
   "cell_type": "markdown",
   "metadata": {},
   "source": [
    "## USER INPUTS TO PREDICT USED CAR PRICE BASED ON SOME FEATURES"
   ]
  },
  {
   "cell_type": "code",
   "execution_count": 46,
   "metadata": {},
   "outputs": [],
   "source": [
    "# Import the required modules for creating interactive widgets\n",
    "import ipywidgets as widgets\n",
    "from ipywidgets import interact, interactive, fixed, interact_manual"
   ]
  },
  {
   "cell_type": "code",
   "execution_count": 47,
   "metadata": {},
   "outputs": [],
   "source": [
    "# Create the prediction array to store the distinct values of the features to then predict the price\n",
    "prediction_array = [] "
   ]
  },
  {
   "cell_type": "markdown",
   "metadata": {},
   "source": [
    "<style>\n",
    "    body {\n",
    "        font-family: Arial, sans-serif;\n",
    "        background-color: #f0f0f0;\n",
    "        margin: 0;\n",
    "        padding: 20px;\n",
    "    }\n",
    "\n",
    "    .container {\n",
    "        max-width: 600px;\n",
    "        margin: 0 auto;\n",
    "        background-color: #fff;\n",
    "        padding: 20px;\n",
    "        border-radius: 10px;\n",
    "        box-shadow: 0 0 10px rgba(0, 0, 0, 0.1);\n",
    "    }\n",
    "\n",
    "    h1 {\n",
    "        color: #3498db;\n",
    "        font-size: 2.5em;\n",
    "        font-weight: bold;\n",
    "        text-align: center;\n",
    "        margin-bottom: 20px;\n",
    "    }\n",
    "\n",
    "    p {\n",
    "        color: #333;\n",
    "        font-size: 1.2em;\n",
    "        margin-bottom: 10px;\n",
    "    }\n",
    "\n",
    "    ol {\n",
    "        color: #333;\n",
    "        line-height: 1.6;\n",
    "        font-weight: bold;\n",
    "    }\n",
    "\n",
    "    ol li {\n",
    "        margin-bottom: 20px;\n",
    "    }\n",
    "</style>\n",
    "\n",
    "<div class=\"container\">\n",
    "    <h1>Used Cars Price Prediction</h1>\n",
    "    <p>Let's predict the price of a used car based on the following features:</p>\n",
    "    <ol>\n",
    "        <li><strong>Manufacturer</strong></li>\n",
    "        <li><strong>Model</strong></li>\n",
    "        <li><strong>Year</strong></li>\n",
    "        <li><strong>Mileage</strong></li>\n",
    "        <li><strong>Transmission</strong></li>\n",
    "        <li><strong>Drive Train</strong></li>\n",
    "        <li><strong>Fuel Type</strong></li>\n",
    "        <li><strong>MPG (Miles Per Gallon)</strong></li>\n",
    "        <li><strong>Previous Accidents</strong></li>\n",
    "        <li><strong>Price Reduction</strong></li>\n",
    "    </ol>\n",
    "</div>\n"
   ]
  },
  {
   "cell_type": "markdown",
   "metadata": {},
   "source": [
    "<style>\n",
    "    body {\n",
    "        font-family: Arial, sans-serif;\n",
    "        background-color: #f0f0f0;\n",
    "        margin: 0;\n",
    "        padding: 20px;\n",
    "    }\n",
    "\n",
    "    .container {\n",
    "        max-width: 350px;\n",
    "        margin: 0 auto;\n",
    "        background-color: #fff;\n",
    "        \n",
    "        border-radius: 10px;\n",
    "        box-shadow: 0 0 10px rgba(0, 0, 0, 0.1);\n",
    "    }\n",
    "\n",
    "    p {\n",
    "        background-color: #fff;\n",
    "        line-height: 1.5;\n",
    "        font-family: Arial;\n",
    "        color: #333;\n",
    "        font-weight: bold;\n",
    "        padding: 10px;\n",
    "        border-radius: 5px;\n",
    "    }\n",
    "</style>\n",
    "\n",
    "<div class=\"container\">\n",
    "    <p>Select the Name of the Car Manufacturer</p>\n",
    "</div>\n"
   ]
  },
  {
   "cell_type": "code",
   "execution_count": 48,
   "metadata": {},
   "outputs": [
    {
     "data": {
      "application/vnd.jupyter.widget-view+json": {
       "model_id": "5e6ea075c46f47a18ec7c1c8a98e967a",
       "version_major": 2,
       "version_minor": 0
      },
      "text/plain": [
       "Dropdown(description='Select a car manufacturer:', options=(('Acura', 0), ('Audi', 1), ('BMW', 2), ('Buick', 3…"
      ]
     },
     "metadata": {},
     "output_type": "display_data"
    }
   ],
   "source": [
    "# Retrieve unique manufacturers from the label encoder\n",
    "manufacturers_list = label_encoders['manufacturer'].classes_\n",
    "\n",
    "# Create a list of tuples with manufacturer and index\n",
    "manufacturers_tuple_list = list(tuple((brand, index) for index, brand in enumerate(manufacturers_list)))\n",
    "\n",
    "# Create a dropdown widget for selecting a car manufacturer\n",
    "car_manufacturer = widgets.Dropdown(\n",
    "    options=manufacturers_tuple_list,  # Use the list of manufacturer tuples as options\n",
    "    description='Select a car manufacturer:'  # Set the description for the dropdown\n",
    ")\n",
    "\n",
    "display(car_manufacturer)\n"
   ]
  },
  {
   "cell_type": "code",
   "execution_count": 49,
   "metadata": {},
   "outputs": [],
   "source": [
    "# Append the selected car manufacturer from the dropdown to the prediction_array\n",
    "prediction_array.append(car_manufacturer.value)"
   ]
  },
  {
   "cell_type": "markdown",
   "metadata": {},
   "source": [
    "<style>\n",
    "    body {\n",
    "        font-family: Arial, sans-serif;\n",
    "        background-color: #f0f0f0;\n",
    "        margin: 0;\n",
    "        padding: 20px;\n",
    "    }\n",
    "\n",
    "    .container {\n",
    "        max-width: 300px;\n",
    "        margin: 0 auto;\n",
    "        background-color: #fff;\n",
    "        \n",
    "        border-radius: 10px;\n",
    "        box-shadow: 0 0 10px rgba(0, 0, 0, 0.1);\n",
    "    }\n",
    "\n",
    "    p {\n",
    "        background-color: #fff;\n",
    "        line-height: 1.5;\n",
    "        font-family: Arial;\n",
    "        color: #333;\n",
    "        font-weight: bold;\n",
    "        padding: 10px;\n",
    "        border-radius: 5px;\n",
    "    }\n",
    "</style>\n",
    "\n",
    "<div class=\"container\">\n",
    "    <p>Select the Name of the Car Model</p>\n",
    "</div>\n"
   ]
  },
  {
   "cell_type": "code",
   "execution_count": 50,
   "metadata": {},
   "outputs": [
    {
     "data": {
      "application/vnd.jupyter.widget-view+json": {
       "model_id": "bdef36d2616241f69de6309e454c0786",
       "version_major": 2,
       "version_minor": 0
      },
      "text/plain": [
       "Dropdown(description='Select the model of the car:', options=('ILX Hybrid 1.5L', 'ILX Hybrid 1.5L', 'NSX T', '…"
      ]
     },
     "metadata": {},
     "output_type": "display_data"
    }
   ],
   "source": [
    "# Filter the 'cars' DataFrame to get models based on the selected car manufacturer\n",
    "# Retrieve the 'model' column for the selected car manufacturer\n",
    "models = cars[cars['manufacturer'] == car_manufacturer.value]['model']\n",
    "\n",
    "# Initialize an empty list to store the decoded model names\n",
    "models_manufacturers = []\n",
    "\n",
    "# Iterate over the indices of the models\n",
    "for i in range(len(models)):\n",
    "    # Inverse transform the encoded model to get the original model name\n",
    "    decoded_model = label_encoders['model'].inverse_transform([models.iloc[i]])[0]\n",
    "    # Append the original model name to the list\n",
    "    models_manufacturers.append(decoded_model)\n",
    "\n",
    "# Create a dropdown widget for selecting the model of the car\n",
    "car_model = widgets.Dropdown(\n",
    "    options=models_manufacturers,  # Use the list of car models as options\n",
    "    description='Select the model of the car:'  # Set the description for the dropdown\n",
    ")\n",
    "\n",
    "display(car_model)"
   ]
  },
  {
   "cell_type": "code",
   "execution_count": 51,
   "metadata": {},
   "outputs": [],
   "source": [
    "# Assuming car_model.value is a scalar or a shapeless array\n",
    "# Reshape it into a 1D array if needed\n",
    "car_model_value_1d = np.array(car_model.value).flatten()\n",
    "\n",
    "# Then, append it to the prediction array\n",
    "prediction_array.append(label_encoders['model'].transform(car_model_value_1d)[0])\n"
   ]
  },
  {
   "cell_type": "markdown",
   "metadata": {},
   "source": [
    "<style>\n",
    "    body {\n",
    "        font-family: Arial, sans-serif;\n",
    "        background-color: #f0f0f0;\n",
    "        margin: 0;\n",
    "        padding: 20px;\n",
    "    }\n",
    "\n",
    "    .container {\n",
    "        max-width: 360px;\n",
    "        margin: 0 auto;\n",
    "        background-color: #fff;\n",
    "        \n",
    "        border-radius: 10px;\n",
    "        box-shadow: 0 0 10px rgba(0, 0, 0, 0.1);\n",
    "    }\n",
    "\n",
    "    p {\n",
    "        background-color: #fff;\n",
    "        line-height: 1.5;\n",
    "        font-family: Arial;\n",
    "        color: #333;\n",
    "        font-weight: bold;\n",
    "        padding: 10px;\n",
    "        border-radius: 5px;\n",
    "    }\n",
    "</style>\n",
    "\n",
    "<div class=\"container\">\n",
    "    <p>Select the Type of the Car's Transmission</p>\n",
    "</div>\n"
   ]
  },
  {
   "cell_type": "code",
   "execution_count": 52,
   "metadata": {},
   "outputs": [
    {
     "data": {
      "application/vnd.jupyter.widget-view+json": {
       "model_id": "48b07f428ddb49adbfcab589d22ff24a",
       "version_major": 2,
       "version_minor": 0
      },
      "text/plain": [
       "Select(description='Select the type of the transmission of the car:', options=('automatic', 'manual'), value='…"
      ]
     },
     "metadata": {},
     "output_type": "display_data"
    }
   ],
   "source": [
    "# Get the unique transmission classes\n",
    "transmission_list = le_transmission.classes_\n",
    "\n",
    "# Create a list of tuples with transmission type and index\n",
    "transmission_tuple_list = list(tuple((transmission, index) for index, transmission in enumerate(transmission_list)))\n",
    "\n",
    "# Create a Select widget for selecting the type of transmission\n",
    "car_transmission = widgets.Select(\n",
    "    options=['automatic', 'manual'],  # Set the available transmission options\n",
    "    description='Select the type of the transmission of the car:',  # Set the description for the dropdown\n",
    "    disabled=False  # Enable the widget for interaction\n",
    ")\n",
    "\n",
    "# Display the car_transmission widget\n",
    "display(car_transmission)\n"
   ]
  },
  {
   "cell_type": "code",
   "execution_count": 53,
   "metadata": {},
   "outputs": [],
   "source": [
    "# Convert the selected transmission value to a numpy array, flatten it, and then encode it\n",
    "encoded_transmission = le_transmission.transform(np.array(car_transmission.value).flatten())\n",
    "\n",
    "# Append the encoded transmission value to the prediction_array\n",
    "prediction_array.append(encoded_transmission[0])\n"
   ]
  },
  {
   "cell_type": "markdown",
   "metadata": {},
   "source": [
    "<style>\n",
    "    body {\n",
    "        font-family: Arial, sans-serif;\n",
    "        background-color: #f0f0f0;\n",
    "        margin: 0;\n",
    "        padding: 20px;\n",
    "    }\n",
    "\n",
    "    .container {\n",
    "        max-width: 280px;\n",
    "        margin: 0 auto;\n",
    "        background-color: #fff;\n",
    "        \n",
    "        border-radius: 10px;\n",
    "        box-shadow: 0 0 10px rgba(0, 0, 0, 0.1);\n",
    "    }\n",
    "\n",
    "    p {\n",
    "        background-color: #fff;\n",
    "        line-height: 1.5;\n",
    "        font-family: Arial;\n",
    "        color: #333;\n",
    "        font-weight: bold;\n",
    "        padding: 10px;\n",
    "        border-radius: 5px;\n",
    "    }\n",
    "</style>\n",
    "\n",
    "<div class=\"container\">\n",
    "    <p>Select the Type of the Car's Fuel</p>\n",
    "</div>\n"
   ]
  },
  {
   "cell_type": "code",
   "execution_count": 54,
   "metadata": {},
   "outputs": [
    {
     "data": {
      "application/vnd.jupyter.widget-view+json": {
       "model_id": "a2ced891fc63428cbb1372443e98d2b9",
       "version_major": 2,
       "version_minor": 0
      },
      "text/plain": [
       "Select(description='Select the type of the fuel that the car consumes:', options=(('diesel', 0), ('gasoline', …"
      ]
     },
     "metadata": {},
     "output_type": "display_data"
    }
   ],
   "source": [
    "# Get the unique fuel types\n",
    "fuel_list = le_fuel_type.classes_\n",
    "\n",
    "# Create a list of tuples with fuel type and index\n",
    "fuels_tuple_list = list(tuple((fuel, index) for index, fuel in enumerate(fuel_list)))\n",
    "\n",
    "# Create a Select widget for selecting the type of fuel\n",
    "car_fuels = widgets.Select(\n",
    "    options=fuels_tuple_list,  # Set the available fuel options\n",
    "    description='Select the type of the fuel that the car consumes:',  # Set the description for the dropdown\n",
    "    disabled=False  # Enable the widget for interaction\n",
    ")\n",
    "\n",
    "# Display the car_fuels widget\n",
    "display(car_fuels)"
   ]
  },
  {
   "cell_type": "code",
   "execution_count": 55,
   "metadata": {},
   "outputs": [],
   "source": [
    "prediction_array.append(car_fuels.value)"
   ]
  },
  {
   "cell_type": "markdown",
   "metadata": {},
   "source": [
    "<style>\n",
    "    body {\n",
    "        font-family: Arial, sans-serif;\n",
    "        background-color: #f0f0f0;\n",
    "        margin: 0;\n",
    "        padding: 20px;\n",
    "    }\n",
    "\n",
    "    .container {\n",
    "        max-width: 460px;\n",
    "        margin: 0 auto;\n",
    "        background-color: #fff;\n",
    "        \n",
    "        border-radius: 10px;\n",
    "        box-shadow: 0 0 10px rgba(0, 0, 0, 0.1);\n",
    "    }\n",
    "\n",
    "    p {\n",
    "        background-color: #fff;\n",
    "        line-height: 1.5;\n",
    "        font-family: Arial;\n",
    "        color: #333;\n",
    "        font-weight: bold;\n",
    "        padding: 10px;\n",
    "        border-radius: 5px;\n",
    "    }\n",
    "</style>\n",
    "\n",
    "<div class=\"container\">\n",
    "    <p>Introduce the Price Reduction From the Initial Price</p>\n",
    "</div>\n"
   ]
  },
  {
   "cell_type": "code",
   "execution_count": 56,
   "metadata": {},
   "outputs": [
    {
     "data": {
      "application/vnd.jupyter.widget-view+json": {
       "model_id": "0e40aef9f7f8451ea82a39379a36faab",
       "version_major": 2,
       "version_minor": 0
      },
      "text/plain": [
       "FloatText(value=0.0, description='Price reduction from the initial price:')"
      ]
     },
     "metadata": {},
     "output_type": "display_data"
    }
   ],
   "source": [
    "# Create a FloatText widget for inputting the price reduction\n",
    "drop_price = widgets.FloatText(\n",
    "    description='Price reduction from the initial price:',  # Set the description for the input field\n",
    "    disabled=False  # Enable the widget for interaction\n",
    ")\n",
    "\n",
    "# Display the drop_price widget\n",
    "display(drop_price)"
   ]
  },
  {
   "cell_type": "code",
   "execution_count": 57,
   "metadata": {},
   "outputs": [],
   "source": [
    "prediction_array.append(drop_price.value)"
   ]
  },
  {
   "cell_type": "markdown",
   "metadata": {},
   "source": [
    "<style>\n",
    "    body {\n",
    "        font-family: Arial, sans-serif;\n",
    "        background-color: #f0f0f0;\n",
    "        margin: 0;\n",
    "        padding: 20px;\n",
    "    }\n",
    "\n",
    "    .container {\n",
    "        max-width: 380px;\n",
    "        margin: 0 auto;\n",
    "        background-color: #fff;\n",
    "        \n",
    "        border-radius: 10px;\n",
    "        box-shadow: 0 0 10px rgba(0, 0, 0, 0.1);\n",
    "    }\n",
    "\n",
    "    p {\n",
    "        background-color: #fff;\n",
    "        line-height: 1.5;\n",
    "        font-family: Arial;\n",
    "        color: #333;\n",
    "        font-weight: bold;\n",
    "        padding: 10px;\n",
    "        border-radius: 5px;\n",
    "    }\n",
    "</style>\n",
    "\n",
    "<div class=\"container\">\n",
    "    <p>Select the Year when the Car was Produced</p>\n",
    "</div>\n"
   ]
  },
  {
   "cell_type": "code",
   "execution_count": 58,
   "metadata": {},
   "outputs": [
    {
     "data": {
      "application/vnd.jupyter.widget-view+json": {
       "model_id": "3a11b06d638649e7b26e7dfaa5b636bf",
       "version_major": 2,
       "version_minor": 0
      },
      "text/plain": [
       "IntSlider(value=2018, continuous_update=False, description='Year of the Car:', max=2023, min=1985)"
      ]
     },
     "metadata": {},
     "output_type": "display_data"
    }
   ],
   "source": [
    "# Create an IntSlider widget for selecting the year of the car\n",
    "year_widget = widgets.IntSlider(\n",
    "    value=2018,           # Default value of the slider\n",
    "    min=1985,             # Minimum value for the slider\n",
    "    max=2023,             # Maximum value for the slider\n",
    "    step=1,               # Step size when moving the slider\n",
    "    description='Year of the Car:',  # Set the description for the slider\n",
    "    disabled=False,       # Enable the widget for interaction\n",
    "    continuous_update=False,  # Update the value only when the user releases the slider handle\n",
    "    orientation='horizontal',  # Set the orientation of the slider\n",
    "    readout=True,         # Show the current value of the slider\n",
    "    readout_format='d'    # Format for displaying the readout value\n",
    ")\n",
    "# Display the year_widget slider\n",
    "display(year_widget)\n"
   ]
  },
  {
   "cell_type": "code",
   "execution_count": 59,
   "metadata": {},
   "outputs": [],
   "source": [
    "prediction_array.append(datetime.datetime.now().year-year_widget.value)"
   ]
  },
  {
   "cell_type": "markdown",
   "metadata": {},
   "source": [
    "<style>\n",
    "    body {\n",
    "        font-family: Arial, sans-serif;\n",
    "        background-color: #f0f0f0;\n",
    "        margin: 0;\n",
    "        padding: 20px;\n",
    "    }\n",
    "\n",
    "    .container {\n",
    "        max-width: 400px;\n",
    "        margin: 0 auto;\n",
    "        background-color: #fff;\n",
    "        \n",
    "        border-radius: 10px;\n",
    "        box-shadow: 0 0 10px rgba(0, 0, 0, 0.1);\n",
    "    }\n",
    "\n",
    "    p {\n",
    "        background-color: #fff;\n",
    "        line-height: 1.5;\n",
    "        font-family: Arial;\n",
    "        color: #333;\n",
    "        font-weight: bold;\n",
    "        padding: 10px;\n",
    "        border-radius: 5px;\n",
    "    }\n",
    "</style>\n",
    "\n",
    "<div class=\"container\">\n",
    "    <p>Input the Traveled Number of Miles of the Car</p>\n",
    "</div>\n"
   ]
  },
  {
   "cell_type": "code",
   "execution_count": 60,
   "metadata": {},
   "outputs": [
    {
     "data": {
      "application/vnd.jupyter.widget-view+json": {
       "model_id": "5da46a55b7ce4087b7a390555f48a3e7",
       "version_major": 2,
       "version_minor": 0
      },
      "text/plain": [
       "FloatText(value=10000.0, description='Number of Miles Traveled of the Car:')"
      ]
     },
     "metadata": {},
     "output_type": "display_data"
    }
   ],
   "source": [
    "# Create a FloatText widget for inputting the number of miles traveled by the car\n",
    "mile_age_car = widgets.FloatText(\n",
    "    description='Number of Miles Traveled of the Car:',  # Set the description for the input field\n",
    "    value=10000,         # Default value for the input field\n",
    "    disabled=False       # Enable the widget for interaction\n",
    ")\n",
    "\n",
    "# Display the mile_age_car widget\n",
    "display(mile_age_car)\n"
   ]
  },
  {
   "cell_type": "code",
   "execution_count": 61,
   "metadata": {},
   "outputs": [],
   "source": [
    "prediction_array.append(mile_age_car.value)"
   ]
  },
  {
   "cell_type": "markdown",
   "metadata": {},
   "source": [
    "<style>\n",
    "    body {\n",
    "        font-family: Arial, sans-serif;\n",
    "        background-color: #f0f0f0;\n",
    "        margin: 0;\n",
    "        padding: 20px;\n",
    "    }\n",
    "\n",
    "    .container {\n",
    "        max-width: 530px;\n",
    "        margin: 0 auto;\n",
    "        background-color: #fff;\n",
    "        \n",
    "        border-radius: 10px;\n",
    "        box-shadow: 0 0 10px rgba(0, 0, 0, 0.1);\n",
    "    }\n",
    "\n",
    "    p {\n",
    "        background-color: #fff;\n",
    "        line-height: 1.5;\n",
    "        font-family: Arial;\n",
    "        color: #333;\n",
    "        font-weight: bold;\n",
    "        padding: 10px;\n",
    "        border-radius: 5px;\n",
    "    }\n",
    "</style>\n",
    "\n",
    "<div class=\"container\">\n",
    "    <p>Input the Average Miles per Gallon (mpg) Consumed by the Car</p>\n",
    "</div>\n"
   ]
  },
  {
   "cell_type": "code",
   "execution_count": 62,
   "metadata": {},
   "outputs": [
    {
     "data": {
      "application/vnd.jupyter.widget-view+json": {
       "model_id": "b77258555de54faf9a306b3843a330c8",
       "version_major": 2,
       "version_minor": 0
      },
      "text/plain": [
       "FloatText(value=20.0, description='Mpg consumption of the Car:')"
      ]
     },
     "metadata": {},
     "output_type": "display_data"
    }
   ],
   "source": [
    "# Create a FloatText widget for inputting the miles per gallon (MPG) consumption of the car\n",
    "mpg_car = widgets.FloatText(\n",
    "    description='Mpg consumption of the Car:',  # Set the description for the input field\n",
    "    value=20,             # Default value for the input field\n",
    "    disabled=False        # Enable the widget for interaction\n",
    ")\n",
    "\n",
    "# Display the mpg_car widget\n",
    "display(mpg_car)\n"
   ]
  },
  {
   "cell_type": "code",
   "execution_count": 63,
   "metadata": {},
   "outputs": [],
   "source": [
    "prediction_array.append(mpg_car.value)"
   ]
  },
  {
   "cell_type": "markdown",
   "metadata": {},
   "source": [
    "<style>\n",
    "    body {\n",
    "        font-family: Arial, sans-serif;\n",
    "        background-color: #f0f0f0;\n",
    "        margin: 0;\n",
    "        padding: 20px;\n",
    "    }\n",
    "\n",
    "    .container {\n",
    "        max-width: 370px;\n",
    "        margin: 0 auto;\n",
    "        background-color: #fff;\n",
    "        \n",
    "        border-radius: 10px;\n",
    "        box-shadow: 0 0 10px rgba(0, 0, 0, 0.1);\n",
    "    }\n",
    "\n",
    "    p {\n",
    "        background-color: #fff;\n",
    "        line-height: 1.5;\n",
    "        font-family: Arial;\n",
    "        color: #333;\n",
    "        font-weight: bold;\n",
    "        padding: 10px;\n",
    "        border-radius: 5px;\n",
    "    }\n",
    "</style>\n",
    "\n",
    "<div class=\"container\">\n",
    "    <p>Select the Type of the DriveTrain of the Car</p>\n",
    "</div>\n"
   ]
  },
  {
   "cell_type": "code",
   "execution_count": 64,
   "metadata": {},
   "outputs": [
    {
     "data": {
      "application/vnd.jupyter.widget-view+json": {
       "model_id": "d6f9e1e867654281836a36918cc26284",
       "version_major": 2,
       "version_minor": 0
      },
      "text/plain": [
       "Select(description='Select the type of the drivetrain of the car:', options=('All-wheel Drive', 'Four-wheel Dr…"
      ]
     },
     "metadata": {},
     "output_type": "display_data"
    }
   ],
   "source": [
    "# Get the unique drivetrain types\n",
    "drive_list = label_encoders['drivetrain'].classes_\n",
    "\n",
    "# Create a list of tuples with drivetrain type and index\n",
    "drives_tuple_list = list(tuple((drive, index) for index, drive in enumerate(drive_list)))\n",
    "\n",
    "# Create a Select widget for selecting the type of drivetrain\n",
    "car_drives = widgets.Select(\n",
    "    options=drive_list,  # Set the available drivetrain options\n",
    "    description='Select the type of the drivetrain of the car:',  # Set the description for the dropdown\n",
    "    disabled=False  # Enable the widget for interaction\n",
    ")\n",
    "\n",
    "# Display the car_drives widget\n",
    "display(car_drives)\n"
   ]
  },
  {
   "cell_type": "code",
   "execution_count": 65,
   "metadata": {},
   "outputs": [],
   "source": [
    "# Then, append it to the prediction array\n",
    "prediction_array.append(label_encoders['drivetrain'].transform(np.array(car_drives.value).flatten())[0])"
   ]
  },
  {
   "cell_type": "markdown",
   "metadata": {},
   "source": [
    "<style>\n",
    "    body {\n",
    "        font-family: Arial, sans-serif;\n",
    "        background-color: #f0f0f0;\n",
    "        margin: 0;\n",
    "        padding: 20px;\n",
    "    }\n",
    "\n",
    "    .container {\n",
    "        max-width: 320px;\n",
    "        margin: 0 auto;\n",
    "        background-color: #fff;\n",
    "        \n",
    "        border-radius: 10px;\n",
    "        box-shadow: 0 0 10px rgba(0, 0, 0, 0.1);\n",
    "    }\n",
    "\n",
    "    p {\n",
    "        background-color: #fff;\n",
    "        line-height: 1.5;\n",
    "        font-family: Arial;\n",
    "        color: #333;\n",
    "        font-weight: bold;\n",
    "        padding: 10px;\n",
    "        border-radius: 5px;\n",
    "    }\n",
    "</style>\n",
    "\n",
    "<div class=\"container\">\n",
    "    <p>Was the Car Involved in Accidents?</p>\n",
    "</div>\n"
   ]
  },
  {
   "cell_type": "code",
   "execution_count": 66,
   "metadata": {},
   "outputs": [
    {
     "data": {
      "application/vnd.jupyter.widget-view+json": {
       "model_id": "04145280d8234bdcb2e785e2340f5dae",
       "version_major": 2,
       "version_minor": 0
      },
      "text/plain": [
       "Checkbox(value=False, description='Was the Car Involved in Accidents?')"
      ]
     },
     "metadata": {},
     "output_type": "display_data"
    }
   ],
   "source": [
    "# Create a Checkbox widget for indicating if the car was involved in accidents\n",
    "accident_checkbox = widgets.Checkbox(\n",
    "    value=False,  # Initial value is set to 'False' (unchecked)\n",
    "    description='Was the Car Involved in Accidents?'  # Set the description for the checkbox\n",
    ")\n",
    "\n",
    "# Display the accident_checkbox widget\n",
    "display(accident_checkbox)\n"
   ]
  },
  {
   "cell_type": "code",
   "execution_count": 67,
   "metadata": {},
   "outputs": [],
   "source": [
    "# Initialize accidents to 0.0\n",
    "accidents = 0.0\n",
    "\n",
    "# Check the state of the accident_checkbox\n",
    "if accident_checkbox.value == True:\n",
    "    # If the checkbox is checked, set accidents to 1.0\n",
    "    accidents = 1.0\n",
    "\n",
    "# Append the value of accidents to the prediction_array\n",
    "prediction_array.append(accidents)\n"
   ]
  },
  {
   "cell_type": "markdown",
   "metadata": {},
   "source": [
    "<style>\n",
    "    body {\n",
    "        font-family: Arial, sans-serif;\n",
    "        background-color: #f0f0f0;\n",
    "        margin: 0;\n",
    "        padding: 20px;\n",
    "    }\n",
    "\n",
    "    .container {\n",
    "        max-width: 150px;\n",
    "        margin: 0 auto;\n",
    "        background-color: #fff;\n",
    "        \n",
    "        border-radius: 10px;\n",
    "        box-shadow: 0 0 10px rgba(0, 0, 0, 0.1);\n",
    "    }\n",
    "\n",
    "    p {\n",
    "        background-color: #fff;\n",
    "        line-height: 1.5;\n",
    "        font-family: Arial;\n",
    "        color: #333;\n",
    "        font-weight: bold;\n",
    "        padding: 10px;\n",
    "        border-radius: 5px;\n",
    "    }\n",
    "</style>\n",
    "\n",
    "<div class=\"container\">\n",
    "    <p>Predicted Price</p>\n",
    "</div>\n"
   ]
  },
  {
   "cell_type": "code",
   "execution_count": 68,
   "metadata": {},
   "outputs": [
    {
     "data": {
      "application/vnd.jupyter.widget-view+json": {
       "model_id": "4479ab89d2774f53a32d731b466d07d2",
       "version_major": 2,
       "version_minor": 0
      },
      "text/plain": [
       "IntProgress(value=7, description='Loading:', max=10, style=ProgressStyle(bar_color='maroon'))"
      ]
     },
     "metadata": {},
     "output_type": "display_data"
    }
   ],
   "source": [
    "# Create an IntProgress widget to display a progress bar\n",
    "progress_bar = widgets.IntProgress(\n",
    "    value=7,               # Initial value of the progress bar\n",
    "    min=0,                 # Minimum value for the progress bar\n",
    "    max=10,                # Maximum value for the progress bar\n",
    "    description='Loading:',  # Set the description for the progress bar\n",
    "    bar_style='',          # Style of the progress bar ('success', 'info', 'warning', 'danger', or '')\n",
    "    style={'bar_color': 'maroon'},  # Style settings for the progress bar\n",
    "    orientation='horizontal'  # Set the orientation of the progress bar\n",
    ")\n",
    "\n",
    "# Display the progress_bar widget\n",
    "display(progress_bar)"
   ]
  },
  {
   "cell_type": "code",
   "execution_count": 69,
   "metadata": {},
   "outputs": [
    {
     "name": "stdout",
     "output_type": "stream",
     "text": [
      "Predicted price: 101,168$\n"
     ]
    },
    {
     "name": "stderr",
     "output_type": "stream",
     "text": [
      "C:\\Users\\jbo1881\\AppData\\Roaming\\Python\\Python39\\site-packages\\sklearn\\base.py:464: UserWarning: X does not have valid feature names, but RandomForestRegressor was fitted with feature names\n",
      "  warnings.warn(\n"
     ]
    }
   ],
   "source": [
    "# Make predictions using the machine learning model with the collected input\n",
    "preds = best_rf_model.predict(np.array(prediction_array).reshape(1, -1))\n",
    "\n",
    "# Assuming preds[0] contains the predicted price as a floating-point number\n",
    "predicted_price = preds[0]\n",
    "\n",
    "# Format the predicted price with a comma for thousands separator and three decimal places\n",
    "formatted_price = '{:,.0f}$'.format(predicted_price)\n",
    "\n",
    "# Print the formatted predicted price\n",
    "print('Predicted price:', formatted_price)\n"
   ]
  }
 ],
 "metadata": {
  "kernelspec": {
   "display_name": "Python 3",
   "language": "python",
   "name": "python3"
  },
  "language_info": {
   "codemirror_mode": {
    "name": "ipython",
    "version": 3
   },
   "file_extension": ".py",
   "mimetype": "text/x-python",
   "name": "python",
   "nbconvert_exporter": "python",
   "pygments_lexer": "ipython3",
   "version": "3.9.2"
  },
  "orig_nbformat": 4
 },
 "nbformat": 4,
 "nbformat_minor": 2
}
